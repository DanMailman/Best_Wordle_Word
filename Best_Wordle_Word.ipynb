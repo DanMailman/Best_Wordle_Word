{
 "cells": [
  {
   "cell_type": "code",
   "execution_count": null,
   "metadata": {
    "collapsed": true,
    "pycharm": {
     "name": "#%%\n"
    }
   },
   "outputs": [],
   "source": [
    "from json import load\n",
    "from pandas import DataFrame, read_csv"
   ]
  },
  {
   "cell_type": "code",
   "execution_count": null,
   "outputs": [],
   "source": [
    "def qEliminates(sGuess, sTest): # The guess makes it impossible for the answer to be the test\n",
    "    for cTest in sTest:\n",
    "        for cGuess in sGuess:\n",
    "            if cTest == cGuess:\n",
    "                return True\n",
    "    return False\n",
    "print (f\"qEliminates('moist','learn'): {qEliminates('moist','learn')}\")\n",
    "print (f\"qEliminates('toast','learn'): {qEliminates('toast','learn')}\")"
   ],
   "metadata": {
    "collapsed": false,
    "pycharm": {
     "name": "#%%\n"
    }
   }
  },
  {
   "cell_type": "code",
   "execution_count": null,
   "outputs": [],
   "source": [
    "def CountGreens(sGuess,sTest):\n",
    "    nRet = 0\n",
    "    for i in range(len(sGuess)):\n",
    "        nRet += 1 if sGuess[i] == sTest[i] else 0\n",
    "    return nRet\n",
    "print(f\"CountGreens('moist','learn'): {CountGreens('moist','learn')}\")\n",
    "print(f\"CountGreens('moist','toast'): {CountGreens('moist','toast')}\")\n",
    "def CountYellows(sGuess,sTest):\n",
    "    nRet = 0\n",
    "    for i in range(len(sTest)):\n",
    "        nRet += 1 if sTest[i] != sGuess[i] and sTest[i] in sGuess else 0\n",
    "    return nRet\n",
    "#print(f\"CountYellows('moist','learn'): {CountYellows('moist','learn')}\")\n",
    "#print(f\"CountYellows('moist','toast'): {CountYellows('moist','toast')}\")\n",
    "#print(f\"CountYellows('moist','jetty'): {CountYellows('moist','jetty')}\")\n",
    "#dictStats = dict() # key: Word, val {'Greens': <int>, 'Yellows': <int>, 'Kills': <int> }"
   ],
   "metadata": {
    "collapsed": false,
    "pycharm": {
     "name": "#%%\n"
    }
   }
  },
  {
   "cell_type": "code",
   "execution_count": null,
   "outputs": [],
   "source": [
    "print('GETTING PYTHON LIST OF DICTs from JSON FILE')\n",
    "with open('5-letter-words.json','r') as fWordleWords:\n",
    "    vWordleWords = load(fWordleWords)\n",
    "print(f'type(vWordleWords): {type(vWordleWords)}')\n",
    "print(f'len(vWordleWords): {len(vWordleWords)}')\n",
    "print(f'type(vWordleWords[0]: {type(vWordleWords[0])}')\n",
    "print(f'vWordleWords[0]: {vWordleWords[0]}')\n",
    "print(f'CONVERTING FROM DICT LIST TO STRING LIST')\n",
    "vWordleWords = [dictWord['word'] for dictWord in vWordleWords]\n",
    "print(f'type(vWordleWords): {type(vWordleWords)}')\n",
    "print(f'len(vWordleWords): {len(vWordleWords)}')\n",
    "print(f'type(vWordleWords[0]: {type(vWordleWords[0])}')\n",
    "print(f'vWordleWords[0]: {vWordleWords[0]}')\n",
    "print(f'len(vWordleWords[0]): {len(vWordleWords[0])}')\n",
    "print(f'SORTING')\n",
    "vWordleWords.sort()"
   ],
   "metadata": {
    "collapsed": false,
    "pycharm": {
     "name": "#%%\n"
    }
   }
  },
  {
   "cell_type": "code",
   "execution_count": null,
   "outputs": [],
   "source": [
    "vStatsDicts = []\n",
    "for sGuess in vWordleWords:\n",
    "    nGreensForGuess = 0\n",
    "    nYellowsForGuess = 0\n",
    "    nKillsForGuess = 0\n",
    "    for sTest in vWordleWords:\n",
    "        if sGuess != sTest:\n",
    "            nGreensForGuess += CountGreens(sGuess,sTest)\n",
    "            nYellowsForGuess += CountYellows(sGuess,sTest)\n",
    "            nKillsForGuess += 1 if qEliminates(sGuess,sTest) else 0\n",
    "            #print(sGuess,sTest,nGreensForGuess,nYellowsForGuess,nKillsForGuess)\n",
    "    vStatsDicts.append({'Word': sGuess,\n",
    "                        'Greens':nGreensForGuess,\n",
    "                        'Yellows':nYellowsForGuess,\n",
    "                        'Kills':nKillsForGuess})\n",
    "    print(vStatsDicts[-1])"
   ],
   "metadata": {
    "collapsed": false,
    "pycharm": {
     "name": "#%%\n"
    }
   }
  },
  {
   "cell_type": "code",
   "execution_count": null,
   "outputs": [],
   "source": [
    "vStatsDicts"
   ],
   "metadata": {
    "collapsed": false,
    "pycharm": {
     "name": "#%%\n"
    }
   }
  },
  {
   "cell_type": "code",
   "execution_count": null,
   "outputs": [],
   "source": [
    "dfStatsDict = DataFrame(vStatsDicts)"
   ],
   "metadata": {
    "collapsed": false,
    "pycharm": {
     "name": "#%%\n"
    }
   }
  },
  {
   "cell_type": "code",
   "execution_count": null,
   "outputs": [],
   "source": [
    "dfStatsDict"
   ],
   "metadata": {
    "collapsed": false,
    "pycharm": {
     "name": "#%%\n"
    }
   }
  },
  {
   "cell_type": "code",
   "execution_count": null,
   "outputs": [],
   "source": [
    "dfStatsDict.set_index('Word')"
   ],
   "metadata": {
    "collapsed": false,
    "pycharm": {
     "name": "#%%\n"
    }
   }
  },
  {
   "cell_type": "code",
   "execution_count": null,
   "outputs": [],
   "source": [
    "print('MOST GREENS:\\n', dfStatsDict[dfStatsDict.Greens == dfStatsDict.Greens.max()])\n",
    "print('MOST YELLOWS:\\n', dfStatsDict[dfStatsDict.Yellows == dfStatsDict.Yellows.max()])\n",
    "print('MOST KILLS:\\n', dfStatsDict[dfStatsDict.Kills == dfStatsDict.Kills.max()])"
   ],
   "metadata": {
    "collapsed": false,
    "pycharm": {
     "name": "#%%\n"
    }
   }
  },
  {
   "cell_type": "code",
   "execution_count": null,
   "outputs": [],
   "source": [
    "def qAllows(sGuess:str,sTest:str)->bool:\n",
    "    return not qEliminates(sGuess,sTest)\n",
    "def MakeAllowables(sGuess:str,vChoices:list)->list:\n",
    "    vRet = [sChoice for sChoice in vChoices if qAllows(sGuess,sChoice)]\n",
    "    return vRet\n",
    "def CandidatesRemaining(vGuesses:list,vChoices:list)->list:\n",
    "    if len(vGuesses) == 0: return vChoices\n",
    "    return CandidatesRemaining(vGuesses[1:], MakeAllowables(vGuesses[0],vChoices))\n",
    "#vRemaining = CandidatesRemaining('sores',vWordleWords)\n",
    "#len(vRemaining)/len(vWordleWords)"
   ],
   "metadata": {
    "collapsed": false,
    "pycharm": {
     "name": "#%%\n"
    }
   }
  },
  {
   "cell_type": "code",
   "execution_count": null,
   "outputs": [],
   "source": [
    "fnWordsBNC = \"BNC_2_2_spokenvwritten.txt\"\n",
    "dfWordsBNC = read_csv(fnWordsBNC,sep='\\t')\n",
    "dfWordsBNC['len'] = dfWordsBNC.Word.str.len()\n",
    "dfWordsBNC['OnlyAlpha'] = dfWordsBNC.Word.str.isalpha()\n",
    "dfWordsBNC.drop(dfWordsBNC[dfWordsBNC.len != 5].index,inplace=True)\n",
    "dfWordsBNC.drop(dfWordsBNC[dfWordsBNC.OnlyAlpha == False].index, inplace=True)\n",
    "dfWordsBNC.FrSp = dfWordsBNC.FrSp.astype(int)\n",
    "dfWordsBNC.len = dfWordsBNC.len.astype(int)\n",
    "dfWordsBNC.drop(columns=['Unnamed: 0','PoS','Unnamed: 4','LL','FrWr','len','OnlyAlpha'], inplace=True)\n",
    "dfWordsBNC['Total'] = dfWordsBNC.groupby('Word')['FrSp'].transform('sum')\n",
    "dfWordsBNC.drop_duplicates(subset=['Word'],inplace=True)\n",
    "dfWordsBNC = dfWordsBNC[~dfWordsBNC['Word'].str[0].str.isupper()]\n",
    "#dfWordsBNC\n",
    "vWordsBNC = dfWordsBNC.Word.tolist()\n",
    "setWordsBNC = set(vWordsBNC)\n",
    "print(f\"len(vWordsBNC): {len(vWordsBNC)}\")\n",
    "print(f\"len(setWordsBNC): {len(setWordsBNC)}\")\n",
    "setWordsBNC\n",
    "dfWordsBNC"
   ],
   "metadata": {
    "collapsed": false,
    "pycharm": {
     "name": "#%%\n"
    }
   }
  },
  {
   "cell_type": "code",
   "execution_count": null,
   "outputs": [],
   "source": [
    "# WGD: \"Word Game Dictionary\"\n",
    "#print('GETTING PYTHON LIST OF DICTs from JSON FILE')\n",
    "with open('5-letter-words.json','r') as fWordsWGD:\n",
    "    vWordsWGD = load(fWordsWGD)\n",
    "#print(f'type(vWordsWGD): {type(vWordsWGD)}')\n",
    "#print(f'len(vWordsWGD): {len(vWordsWGD)}')\n",
    "#print(f'type(vWordsWGD[0]: {type(vWordsWGD[0])}')\n",
    "#print(f'vWordsWGD[0]: {vWordsWGD[0]}')\n",
    "#print(f'CONVERTING FROM DICT LIST TO STRING LIST')\n",
    "vWordsWGD = [dictWord['word'] for dictWord in vWordsWGD]\n",
    "#print(f'type(vWordsWGD): {type(vWordsWGD)}')\n",
    "#print(f'len(vWordsWGD): {len(vWordsWGD)}')\n",
    "#print(f'type(vWordsWGD[0]: {type(vWordsWGD[0])}')\n",
    "#print(f'vWordsWGD[0]: {vWordsWGD[0]}')\n",
    "#print(f'len(vWordsWGD[0]): {len(vWordsWGD[0])}')\n",
    "#print(f'SORTING')\n",
    "vWordsWGD.sort()\n",
    "setWordsWGD = set(vWordsWGD)"
   ],
   "metadata": {
    "collapsed": false,
    "pycharm": {
     "name": "#%%\n"
    }
   }
  },
  {
   "cell_type": "code",
   "execution_count": null,
   "outputs": [],
   "source": [
    "setCommon = setWordsWGD.intersection(setWordsBNC)\n",
    "print(f\"len(setCommon): {len(setCommon)}\")\n",
    "setCommon == setWordsBNC\n",
    "# setDiff = setWordsBNC - setWordsWGD\n",
    "# setDiff"
   ],
   "metadata": {
    "collapsed": false,
    "pycharm": {
     "name": "#%%\n"
    }
   }
  },
  {
   "cell_type": "code",
   "execution_count": null,
   "outputs": [],
   "source": [
    "nLeastRemaining = len(vWordleWords)\n",
    "vBestGuesses = []\n",
    "vRemainingAfterBestGuesses = []\n",
    "for sGuess01 in setWordsBNC:\n",
    "    for sGuess02 in setWordsBNC:\n",
    "        vGuessList = [sGuess01,sGuess02]\n",
    "        vRemaining = CandidatesRemaining(vGuessList,vWordleWords)\n",
    "        #print(f\"len(vRemaining): {len(vRemaining)} {vGuessList}\")\n",
    "        if len(vRemaining) < nLeastRemaining:\n",
    "            nLeastRemaining = len(vRemaining)\n",
    "            vBestGuesses = vGuessList\n",
    "            vRemainingAfterBestGuesses = vRemaining\n",
    "    print(f\"vBestGuesses({vBestGuesses}) nLeastRemaining({nLeastRemaining})\")"
   ],
   "metadata": {
    "collapsed": false,
    "pycharm": {
     "name": "#%%\n"
    }
   }
  },
  {
   "cell_type": "code",
   "execution_count": null,
   "outputs": [],
   "source": [],
   "metadata": {
    "collapsed": false,
    "pycharm": {
     "name": "#%%\n"
    }
   }
  }
 ],
 "metadata": {
  "kernelspec": {
   "display_name": "Python 3",
   "language": "python",
   "name": "python3"
  },
  "language_info": {
   "codemirror_mode": {
    "name": "ipython",
    "version": 2
   },
   "file_extension": ".py",
   "mimetype": "text/x-python",
   "name": "python",
   "nbconvert_exporter": "python",
   "pygments_lexer": "ipython2",
   "version": "2.7.6"
  }
 },
 "nbformat": 4,
 "nbformat_minor": 0
}